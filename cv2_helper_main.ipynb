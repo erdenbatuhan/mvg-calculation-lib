{
 "cells": [
  {
   "cell_type": "code",
   "execution_count": 1,
   "metadata": {},
   "outputs": [],
   "source": [
    "# Numpy\n",
    "import numpy as np\n",
    "\n",
    "# CV2 Helper\n",
    "import cv2_helper as helper\n",
    "import cv2_helper_tests as helper_tests\n",
    "\n",
    "# Other libs"
   ]
  },
  {
   "cell_type": "markdown",
   "metadata": {},
   "source": [
    "## 1. Linear Independence"
   ]
  },
  {
   "cell_type": "code",
   "execution_count": 2,
   "metadata": {},
   "outputs": [
    {
     "data": {
      "text/plain": [
       "False"
      ]
     },
     "execution_count": 2,
     "metadata": {},
     "output_type": "execute_result"
    }
   ],
   "source": [
    "# =========================================\n",
    "# TEST\n",
    "# =========================================\n",
    "helper_tests.is_lin_ind_tests()\n",
    "\n",
    "# =========================================\n",
    "# INPUT\n",
    "# =========================================\n",
    "v1, v2, v3, v4 = [2, 1, 0], [3, 1, 0], [0, 0, 1], [1, 0, 1]\n",
    "\n",
    "# =========================================\n",
    "# OUTPUT\n",
    "# =========================================\n",
    "helper.is_lin_ind([v1, v2, v3, v4])"
   ]
  },
  {
   "cell_type": "markdown",
   "metadata": {},
   "source": [
    "## 2. Calculate the pixel-position of the projected point (u, v) in the image and tick the correct answer"
   ]
  },
  {
   "cell_type": "code",
   "execution_count": 3,
   "metadata": {},
   "outputs": [
    {
     "name": "stdout",
     "output_type": "stream",
     "text": [
      "Solution:\n",
      "lambda:  2\n",
      "u:  70.0\n",
      "v:  440.0\n"
     ]
    }
   ],
   "source": [
    "# =========================================\n",
    "# TEST\n",
    "# =========================================\n",
    "helper_tests.pixel_pos_of_proj_point_tests()\n",
    "\n",
    "# =========================================\n",
    "# INPUT\n",
    "# =========================================\n",
    "# 3D Point P\n",
    "P = np.array([[0, 1, 2]]).T\n",
    "\n",
    "# C (Optical Center)\n",
    "C = np.array([[1, 0, 0]]).T\n",
    "\n",
    "# Instrinsic parameter matrix\n",
    "K = np.array([\n",
    "    [500,  0,    320],\n",
    "    [0,    400,  240],\n",
    "    [0,    0,    1]\n",
    "])\n",
    "\n",
    "# =========================================\n",
    "# OUTPUT\n",
    "# =========================================\n",
    "lamb, u, v = helper.pixel_pos_of_proj_point(P=P, C=C, K=K)\n",
    "\n",
    "print(\"Solution:\")\n",
    "print(\"lambda: \", lamb)\n",
    "print(\"u: \", u)\n",
    "print(\"v: \", v)"
   ]
  },
  {
   "cell_type": "markdown",
   "metadata": {},
   "source": [
    "## 3. Image Formation (more) & Radial Distortion and Image Rectification (EXERCISE 4 -> 4_matlab.m)"
   ]
  },
  {
   "cell_type": "markdown",
   "metadata": {},
   "source": [
    "## 4. Finding intrinsic camera parameters given points (getIntrinsicCamera.m)"
   ]
  },
  {
   "cell_type": "markdown",
   "metadata": {},
   "source": [
    "## 5. g_CamToWorld given (2. Calculate the pixel-position of the projected point (u, v) in the image and tick the correct answer)"
   ]
  },
  {
   "cell_type": "code",
   "execution_count": 4,
   "metadata": {},
   "outputs": [
    {
     "name": "stdout",
     "output_type": "stream",
     "text": [
      "Solution:\n",
      "lambda:  4.0\n",
      "u:  800.0\n",
      "v:  480.0\n"
     ]
    }
   ],
   "source": [
    "# =========================================\n",
    "# TEST\n",
    "# =========================================\n",
    "helper_tests.pixel_pos_of_proj_point_tests()\n",
    "\n",
    "# =========================================\n",
    "# INPUT\n",
    "# =========================================\n",
    "# 3D Point P in world coordinates\n",
    "P = np.array([[8, -1, 1]]).T\n",
    "\n",
    "# Transform Matrix (CAM TO WORLD)\n",
    "g_cam_to_world = np.array([\n",
    "    [0,   0,  1,  4],\n",
    "    [-1,  0,  0,  2],\n",
    "    [0,   -1, 0,  3],\n",
    "    [0,   0,  0,  1]\n",
    "])\n",
    "\n",
    "# Instrinsic parameter matrix\n",
    "K = np.array([\n",
    "    [640,  0,    320],\n",
    "    [0,    480,  240],\n",
    "    [0,    0,    1]\n",
    "])\n",
    "\n",
    "# =========================================\n",
    "# OUTPUT\n",
    "# =========================================\n",
    "lamb, u, v = helper.pixel_pos_of_proj_point(P=P, K=K, g_cam_to_world=g_cam_to_world)\n",
    "\n",
    "print(\"Solution:\")\n",
    "print(\"lambda: \", lamb)\n",
    "print(\"u: \", u)\n",
    "print(\"v: \", v)"
   ]
  },
  {
   "cell_type": "markdown",
   "metadata": {},
   "source": [
    "## 6. The equation of the epipolar line associated to the pixel"
   ]
  },
  {
   "cell_type": "code",
   "execution_count": 9,
   "metadata": {},
   "outputs": [
    {
     "name": "stdout",
     "output_type": "stream",
     "text": [
      "y = 16/45x + 100/45\n"
     ]
    }
   ],
   "source": [
    "# =========================================\n",
    "# TEST\n",
    "# =========================================\n",
    "helper_tests.epipolar_line_assoc_pixel_tests()\n",
    "\n",
    "# =========================================\n",
    "# INPUT & OUTPUT\n",
    "# =========================================\n",
    "m, b = helper.epipolar_line_assoc_pixel(P=np.array([50, 20, 1]).T, T=[5, 4, 1])\n",
    "print(\"y = %d/%dx + %d/%d\" % (m[0], m[1], b[0], b[1]))"
   ]
  },
  {
   "cell_type": "code",
   "execution_count": 6,
   "metadata": {},
   "outputs": [
    {
     "name": "stdout",
     "output_type": "stream",
     "text": [
      "1: 20.0 20 4.0 4\n",
      "2: 20.0 20 2.9333333333333336 2.933333333333333\n",
      "3: 20.0 20 7.2 6.2\n",
      "4: 20.0 20 3.0 3\n"
     ]
    }
   ],
   "source": [
    "# Which one is unlikely to be a pair of correspondent pixels? (Answer: 3rd one!)\n",
    "\n",
    "a1 = helper.epipolar_line_assoc_pixel(P=np.array([30, 20, 1]).T, T=[5, 4, 1], return_func=True)\n",
    "print(\"1:\", a1(30), 20, a1(5), 4)\n",
    "\n",
    "a2 = helper.epipolar_line_assoc_pixel(P=np.array([50, 20, 1]).T, T=[5, 4, 1], return_func=True)\n",
    "print(\"2:\", a2(50), 20, a2(2), 132/45)\n",
    "\n",
    "a3 = helper.epipolar_line_assoc_pixel(P=np.array([30, 20, 1]).T, T=[5, 4, 1], return_func=True)\n",
    "print(\"3:\", a3(30), 20, a3(10), 31/5)\n",
    "\n",
    "a4 = helper.epipolar_line_assoc_pixel(P=np.array([50, 20, 1]).T, T=[5, 4, 1], return_func=True)\n",
    "print(\"4:\", a4(50), 20, a4(35/16), 3)"
   ]
  },
  {
   "cell_type": "code",
   "execution_count": null,
   "metadata": {},
   "outputs": [],
   "source": []
  },
  {
   "cell_type": "code",
   "execution_count": null,
   "metadata": {},
   "outputs": [],
   "source": []
  }
 ],
 "metadata": {
  "kernelspec": {
   "display_name": "Python 3",
   "language": "python",
   "name": "python3"
  },
  "language_info": {
   "codemirror_mode": {
    "name": "ipython",
    "version": 3
   },
   "file_extension": ".py",
   "mimetype": "text/x-python",
   "name": "python",
   "nbconvert_exporter": "python",
   "pygments_lexer": "ipython3",
   "version": "3.8.5"
  }
 },
 "nbformat": 4,
 "nbformat_minor": 4
}
