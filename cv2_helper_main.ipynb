{
 "cells": [
  {
   "cell_type": "code",
   "execution_count": 1,
   "metadata": {},
   "outputs": [],
   "source": [
    "# Numpy\n",
    "import numpy as np\n",
    "\n",
    "# CV2 Helper\n",
    "import cv2_helper as helper\n",
    "import cv2_helper_tests as helper_tests\n",
    "\n",
    "# Other libs"
   ]
  },
  {
   "cell_type": "markdown",
   "metadata": {},
   "source": [
    "## 1. Linear Independence"
   ]
  },
  {
   "cell_type": "code",
   "execution_count": 2,
   "metadata": {},
   "outputs": [
    {
     "data": {
      "text/plain": [
       "False"
      ]
     },
     "execution_count": 2,
     "metadata": {},
     "output_type": "execute_result"
    }
   ],
   "source": [
    "# =========================================\n",
    "# TEST\n",
    "# =========================================\n",
    "helper_tests.is_lin_ind_tests()\n",
    "\n",
    "# =========================================\n",
    "# INPUT\n",
    "# =========================================\n",
    "v1, v2, v3, v4 = [2, 1, 0], [3, 1, 0], [0, 0, 1], [1, 0, 1]\n",
    "\n",
    "# =========================================\n",
    "# OUTPUT\n",
    "# =========================================\n",
    "helper.is_lin_ind([v1, v2, v3, v4])"
   ]
  },
  {
   "cell_type": "markdown",
   "metadata": {},
   "source": [
    "## 2. Calculate the pixel-position of the projected point (u, v) in the image and tick the correct answer"
   ]
  },
  {
   "cell_type": "code",
   "execution_count": 3,
   "metadata": {},
   "outputs": [
    {
     "ename": "AssertionError",
     "evalue": "",
     "output_type": "error",
     "traceback": [
      "\u001b[1;31m---------------------------------------------------------------------------\u001b[0m",
      "\u001b[1;31mAssertionError\u001b[0m                            Traceback (most recent call last)",
      "\u001b[1;32m<ipython-input-3-a088ebf9f769>\u001b[0m in \u001b[0;36m<module>\u001b[1;34m\u001b[0m\n\u001b[0;32m      2\u001b[0m \u001b[1;31m# TEST\u001b[0m\u001b[1;33m\u001b[0m\u001b[1;33m\u001b[0m\u001b[1;33m\u001b[0m\u001b[0m\n\u001b[0;32m      3\u001b[0m \u001b[1;31m# =========================================\u001b[0m\u001b[1;33m\u001b[0m\u001b[1;33m\u001b[0m\u001b[1;33m\u001b[0m\u001b[0m\n\u001b[1;32m----> 4\u001b[1;33m \u001b[0mhelper_tests\u001b[0m\u001b[1;33m.\u001b[0m\u001b[0mpixel_pos_of_proj_point_tests\u001b[0m\u001b[1;33m(\u001b[0m\u001b[1;33m)\u001b[0m\u001b[1;33m\u001b[0m\u001b[1;33m\u001b[0m\u001b[0m\n\u001b[0m\u001b[0;32m      5\u001b[0m \u001b[1;33m\u001b[0m\u001b[0m\n\u001b[0;32m      6\u001b[0m \u001b[1;31m# =========================================\u001b[0m\u001b[1;33m\u001b[0m\u001b[1;33m\u001b[0m\u001b[1;33m\u001b[0m\u001b[0m\n",
      "\u001b[1;32m~\\workspace\\erdenbatuhan\\cv2-helper\\cv2_helper_tests.py\u001b[0m in \u001b[0;36mpixel_pos_of_proj_point_tests\u001b[1;34m()\u001b[0m\n\u001b[0;32m    124\u001b[0m     \u001b[0mpixel_pos_of_proj_point_test_3\u001b[0m\u001b[1;33m(\u001b[0m\u001b[1;33m)\u001b[0m  \u001b[1;31m# Test 3\u001b[0m\u001b[1;33m\u001b[0m\u001b[1;33m\u001b[0m\u001b[0m\n\u001b[0;32m    125\u001b[0m     \u001b[0mpixel_pos_of_proj_point_test_4\u001b[0m\u001b[1;33m(\u001b[0m\u001b[1;33m)\u001b[0m  \u001b[1;31m# Test 4\u001b[0m\u001b[1;33m\u001b[0m\u001b[1;33m\u001b[0m\u001b[0m\n\u001b[1;32m--> 126\u001b[1;33m     \u001b[0mpixel_pos_of_proj_point_test_5\u001b[0m\u001b[1;33m(\u001b[0m\u001b[1;33m)\u001b[0m  \u001b[1;31m# Test 5\u001b[0m\u001b[1;33m\u001b[0m\u001b[1;33m\u001b[0m\u001b[0m\n\u001b[0m\u001b[0;32m    127\u001b[0m \u001b[1;31m# ====================================================================================================================================================================\u001b[0m\u001b[1;33m\u001b[0m\u001b[1;33m\u001b[0m\u001b[1;33m\u001b[0m\u001b[0m\n\u001b[0;32m    128\u001b[0m \u001b[1;33m\u001b[0m\u001b[0m\n",
      "\u001b[1;32m~\\workspace\\erdenbatuhan\\cv2-helper\\cv2_helper_tests.py\u001b[0m in \u001b[0;36mpixel_pos_of_proj_point_test_5\u001b[1;34m()\u001b[0m\n\u001b[0;32m    117\u001b[0m     ])\n\u001b[0;32m    118\u001b[0m \u001b[1;33m\u001b[0m\u001b[0m\n\u001b[1;32m--> 119\u001b[1;33m     \u001b[1;32massert\u001b[0m\u001b[1;33m(\u001b[0m\u001b[0mhelper\u001b[0m\u001b[1;33m.\u001b[0m\u001b[0mpixel_pos_of_proj_point\u001b[0m\u001b[1;33m(\u001b[0m\u001b[0mP\u001b[0m\u001b[1;33m=\u001b[0m\u001b[0mP\u001b[0m\u001b[1;33m,\u001b[0m \u001b[0mK\u001b[0m\u001b[1;33m=\u001b[0m\u001b[0mK\u001b[0m\u001b[1;33m,\u001b[0m \u001b[0mg_cam_to_world\u001b[0m\u001b[1;33m=\u001b[0m\u001b[0mg_cam_to_world\u001b[0m\u001b[1;33m)\u001b[0m \u001b[1;33m==\u001b[0m \u001b[1;33m(\u001b[0m\u001b[1;36m8\u001b[0m\u001b[1;33m,\u001b[0m \u001b[1;36m240.0\u001b[0m\u001b[1;33m,\u001b[0m \u001b[1;36m300.0\u001b[0m\u001b[1;33m)\u001b[0m\u001b[1;33m)\u001b[0m\u001b[1;33m\u001b[0m\u001b[1;33m\u001b[0m\u001b[0m\n\u001b[0m\u001b[0;32m    120\u001b[0m \u001b[1;33m\u001b[0m\u001b[0m\n\u001b[0;32m    121\u001b[0m \u001b[1;32mdef\u001b[0m \u001b[0mpixel_pos_of_proj_point_tests\u001b[0m\u001b[1;33m(\u001b[0m\u001b[1;33m)\u001b[0m\u001b[1;33m:\u001b[0m\u001b[1;33m\u001b[0m\u001b[1;33m\u001b[0m\u001b[0m\n",
      "\u001b[1;31mAssertionError\u001b[0m: "
     ]
    }
   ],
   "source": [
    "# =========================================\n",
    "# TEST\n",
    "# =========================================\n",
    "helper_tests.pixel_pos_of_proj_point_tests()\n",
    "\n",
    "# =========================================\n",
    "# INPUT\n",
    "# =========================================\n",
    "# 3D Point P\n",
    "P = np.array([[0, 1, 2]]).T\n",
    "\n",
    "# C (Optical Center)\n",
    "C = np.array([[1, 0, 0]]).T\n",
    "\n",
    "# Instrinsic parameter matrix\n",
    "K = np.array([\n",
    "    [500,  0,    320],\n",
    "    [0,    400,  240],\n",
    "    [0,    0,    1]\n",
    "])\n",
    "\n",
    "# =========================================\n",
    "# OUTPUT\n",
    "# =========================================\n",
    "lamb, u, v = helper.pixel_pos_of_proj_point(P=P, C=C, K=K)\n",
    "\n",
    "print(\"Solution:\")\n",
    "print(\"lambda: \", lamb)\n",
    "print(\"u: \", u)\n",
    "print(\"v: \", v)"
   ]
  },
  {
   "cell_type": "markdown",
   "metadata": {},
   "source": [
    "## 3. Image Formation (more) & Radial Distortion and Image Rectification (EXERCISE 4 -> 4_matlab.m)"
   ]
  },
  {
   "cell_type": "markdown",
   "metadata": {},
   "source": [
    "## 4. Finding intrinsic camera parameters given points (getIntrinsicCamera.m)"
   ]
  },
  {
   "cell_type": "markdown",
   "metadata": {},
   "source": [
    "## 5. g_CamToWorld given (2. Calculate the pixel-position of the projected point (u, v) in the image and tick the correct answer)"
   ]
  },
  {
   "cell_type": "code",
   "execution_count": null,
   "metadata": {},
   "outputs": [],
   "source": [
    "# =========================================\n",
    "# TEST\n",
    "# =========================================\n",
    "helper_tests.pixel_pos_of_proj_point_tests()\n",
    "\n",
    "# =========================================\n",
    "# INPUT\n",
    "# =========================================\n",
    "# 3D Point P in world coordinates\n",
    "P = np.array([[8, -1, 1]]).T\n",
    "\n",
    "# Transform Matrix (CAM TO WORLD)\n",
    "g_cam_to_world = np.array([\n",
    "    [0,   0,  1,  4],\n",
    "    [-1,  0,  0,  2],\n",
    "    [0,   -1, 0,  3],\n",
    "    [0,   0,  0,  1]\n",
    "])\n",
    "\n",
    "# Instrinsic parameter matrix\n",
    "K = np.array([\n",
    "    [640,  0,    320],\n",
    "    [0,    480,  240],\n",
    "    [0,    0,    1]\n",
    "])\n",
    "\n",
    "# =========================================\n",
    "# OUTPUT\n",
    "# =========================================\n",
    "lamb, u, v = helper.pixel_pos_of_proj_point(P=P, K=K, g_cam_to_world=g_cam_to_world)\n",
    "\n",
    "print(\"Solution:\")\n",
    "print(\"lambda: \", lamb)\n",
    "print(\"u: \", u)\n",
    "print(\"v: \", v)"
   ]
  },
  {
   "cell_type": "code",
   "execution_count": null,
   "metadata": {},
   "outputs": [],
   "source": []
  }
 ],
 "metadata": {
  "kernelspec": {
   "display_name": "Python 3",
   "language": "python",
   "name": "python3"
  },
  "language_info": {
   "codemirror_mode": {
    "name": "ipython",
    "version": 3
   },
   "file_extension": ".py",
   "mimetype": "text/x-python",
   "name": "python",
   "nbconvert_exporter": "python",
   "pygments_lexer": "ipython3",
   "version": "3.8.5"
  }
 },
 "nbformat": 4,
 "nbformat_minor": 4
}
