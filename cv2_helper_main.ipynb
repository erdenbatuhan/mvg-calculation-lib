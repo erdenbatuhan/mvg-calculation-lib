{
 "cells": [
  {
   "cell_type": "code",
   "execution_count": 1,
   "metadata": {},
   "outputs": [],
   "source": [
    "# Numpy\n",
    "import numpy as np\n",
    "\n",
    "# CV2 Helper\n",
    "import cv2_helper as helper\n",
    "import cv2_helper_tests as helper_tests\n",
    "\n",
    "# Other libs"
   ]
  },
  {
   "cell_type": "markdown",
   "metadata": {},
   "source": [
    "## 1. Linear Independence"
   ]
  },
  {
   "cell_type": "code",
   "execution_count": 2,
   "metadata": {},
   "outputs": [
    {
     "data": {
      "text/plain": [
       "False"
      ]
     },
     "execution_count": 2,
     "metadata": {},
     "output_type": "execute_result"
    }
   ],
   "source": [
    "# =========================================\n",
    "# TEST\n",
    "# =========================================\n",
    "helper_tests.is_lin_ind_tests()\n",
    "\n",
    "# =========================================\n",
    "# INPUT\n",
    "# =========================================\n",
    "v1, v2, v3, v4 = [2, 1, 0], [3, 1, 0], [0, 0, 1], [1, 0, 1]\n",
    "\n",
    "# =========================================\n",
    "# OUTPUT\n",
    "# =========================================\n",
    "helper.is_lin_ind([v1, v2, v3, v4])"
   ]
  },
  {
   "cell_type": "markdown",
   "metadata": {},
   "source": [
    "## 2. Calculate the pixel-position of the projected point (u, v) in the image and tick the correct answer"
   ]
  },
  {
   "cell_type": "code",
   "execution_count": 3,
   "metadata": {},
   "outputs": [
    {
     "name": "stdout",
     "output_type": "stream",
     "text": [
      "Solution:\n",
      "lambda:  2\n",
      "u:  70.0\n",
      "v:  440.0\n"
     ]
    }
   ],
   "source": [
    "# =========================================\n",
    "# TEST\n",
    "# =========================================\n",
    "helper_tests.pixel_pos_of_proj_point_tests()\n",
    "\n",
    "# =========================================\n",
    "# INPUT\n",
    "# =========================================\n",
    "# 3D Point P\n",
    "P = np.array([[0, 1, 2]]).T\n",
    "\n",
    "# C (Optical Center)\n",
    "C = np.array([[1, 0, 0]]).T\n",
    "\n",
    "# Instrinsic parameter matrix\n",
    "K = np.array([\n",
    "    [500,  0,    320],\n",
    "    [0,    400,  240],\n",
    "    [0,    0,    1]\n",
    "])\n",
    "\n",
    "# =========================================\n",
    "# OUTPUT\n",
    "# =========================================\n",
    "lamb, u, v = helper.pixel_pos_of_proj_point(P=P, C=C, K=K)\n",
    "\n",
    "print(\"Solution:\")\n",
    "print(\"lambda: \", lamb)\n",
    "print(\"u: \", u)\n",
    "print(\"v: \", v)"
   ]
  },
  {
   "cell_type": "markdown",
   "metadata": {},
   "source": [
    "## 3. Image Formation (more) & Radial Distortion and Image Rectification (EXERCISE 4 -> 4_matlab.m)"
   ]
  },
  {
   "cell_type": "markdown",
   "metadata": {},
   "source": [
    "## 4."
   ]
  },
  {
   "cell_type": "code",
   "execution_count": null,
   "metadata": {},
   "outputs": [],
   "source": []
  }
 ],
 "metadata": {
  "kernelspec": {
   "display_name": "Python 3",
   "language": "python",
   "name": "python3"
  },
  "language_info": {
   "codemirror_mode": {
    "name": "ipython",
    "version": 3
   },
   "file_extension": ".py",
   "mimetype": "text/x-python",
   "name": "python",
   "nbconvert_exporter": "python",
   "pygments_lexer": "ipython3",
   "version": "3.8.5"
  }
 },
 "nbformat": 4,
 "nbformat_minor": 4
}
